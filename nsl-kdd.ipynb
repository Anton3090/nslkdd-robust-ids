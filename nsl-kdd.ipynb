{
 "cells": [
  {
   "cell_type": "code",
   "execution_count": 1,
   "id": "58f986ee",
   "metadata": {
    "_cell_guid": "b1076dfc-b9ad-4769-8c92-a6c4dae69d19",
    "_uuid": "8f2839f25d086af736a60e9eeb907d3b93b6e0e5",
    "execution": {
     "iopub.execute_input": "2025-05-20T14:06:43.492104Z",
     "iopub.status.busy": "2025-05-20T14:06:43.491889Z",
     "iopub.status.idle": "2025-05-20T14:06:45.158862Z",
     "shell.execute_reply": "2025-05-20T14:06:45.157980Z"
    },
    "papermill": {
     "duration": 1.672047,
     "end_time": "2025-05-20T14:06:45.160295",
     "exception": false,
     "start_time": "2025-05-20T14:06:43.488248",
     "status": "completed"
    },
    "tags": []
   },
   "outputs": [
    {
     "name": "stdout",
     "output_type": "stream",
     "text": [
      "/kaggle/input/nslkdd/KDDTest+.arff\n",
      "/kaggle/input/nslkdd/KDDTest-21.arff\n",
      "/kaggle/input/nslkdd/KDDTest1.jpg\n",
      "/kaggle/input/nslkdd/KDDTrain+.txt\n",
      "/kaggle/input/nslkdd/KDDTrain+_20Percent.txt\n",
      "/kaggle/input/nslkdd/KDDTest-21.txt\n",
      "/kaggle/input/nslkdd/KDDTest+.txt\n",
      "/kaggle/input/nslkdd/KDDTrain+.arff\n",
      "/kaggle/input/nslkdd/index.html\n",
      "/kaggle/input/nslkdd/KDDTrain+_20Percent.arff\n",
      "/kaggle/input/nslkdd/KDDTrain1.jpg\n",
      "/kaggle/input/nslkdd/nsl-kdd/KDDTest+.arff\n",
      "/kaggle/input/nslkdd/nsl-kdd/KDDTest-21.arff\n",
      "/kaggle/input/nslkdd/nsl-kdd/KDDTest1.jpg\n",
      "/kaggle/input/nslkdd/nsl-kdd/KDDTrain+.txt\n",
      "/kaggle/input/nslkdd/nsl-kdd/KDDTrain+_20Percent.txt\n",
      "/kaggle/input/nslkdd/nsl-kdd/KDDTest-21.txt\n",
      "/kaggle/input/nslkdd/nsl-kdd/KDDTest+.txt\n",
      "/kaggle/input/nslkdd/nsl-kdd/KDDTrain+.arff\n",
      "/kaggle/input/nslkdd/nsl-kdd/index.html\n",
      "/kaggle/input/nslkdd/nsl-kdd/KDDTrain+_20Percent.arff\n",
      "/kaggle/input/nslkdd/nsl-kdd/KDDTrain1.jpg\n"
     ]
    }
   ],
   "source": [
    "# This Python 3 environment comes with many helpful analytics libraries installed\n",
    "# It is defined by the kaggle/python Docker image: https://github.com/kaggle/docker-python\n",
    "# For example, here's several helpful packages to load\n",
    "\n",
    "import numpy as np # linear algebra\n",
    "import pandas as pd # data processing, CSV file I/O (e.g. pd.read_csv)\n",
    "\n",
    "# Input data files are available in the read-only \"../input/\" directory\n",
    "# For example, running this (by clicking run or pressing Shift+Enter) will list all files under the input directory\n",
    "\n",
    "import os\n",
    "for dirname, _, filenames in os.walk('/kaggle/input'):\n",
    "    for filename in filenames:\n",
    "        print(os.path.join(dirname, filename))\n",
    "\n",
    "# You can write up to 20GB to the current directory (/kaggle/working/) that gets preserved as output when you create a version using \"Save & Run All\" \n",
    "# You can also write temporary files to /kaggle/temp/, but they won't be saved outside of the current session"
   ]
  },
  {
   "cell_type": "markdown",
   "id": "6fb61e66",
   "metadata": {
    "papermill": {
     "duration": 0.002198,
     "end_time": "2025-05-20T14:06:45.165450",
     "exception": false,
     "start_time": "2025-05-20T14:06:45.163252",
     "status": "completed"
    },
    "tags": []
   },
   "source": [
    "**Dataset Import**"
   ]
  },
  {
   "cell_type": "code",
   "execution_count": 2,
   "id": "251648c7",
   "metadata": {
    "execution": {
     "iopub.execute_input": "2025-05-20T14:06:45.171416Z",
     "iopub.status.busy": "2025-05-20T14:06:45.170693Z",
     "iopub.status.idle": "2025-05-20T14:06:47.573445Z",
     "shell.execute_reply": "2025-05-20T14:06:47.572594Z"
    },
    "papermill": {
     "duration": 2.407162,
     "end_time": "2025-05-20T14:06:47.574886",
     "exception": false,
     "start_time": "2025-05-20T14:06:45.167724",
     "status": "completed"
    },
    "tags": []
   },
   "outputs": [
    {
     "name": "stdout",
     "output_type": "stream",
     "text": [
      "Path to dataset files: /kaggle/input/nslkdd\n"
     ]
    }
   ],
   "source": [
    "import kagglehub\n",
    "import pandas as pd\n",
    "from sklearn.model_selection import train_test_split\n",
    "from sklearn.preprocessing import LabelEncoder, StandardScaler\n",
    "\n",
    "# Download and load the dataset\n",
    "path = kagglehub.dataset_download(\"hassan06/nslkdd\")\n",
    "print(\"Path to dataset files:\", path)\n",
    "\n",
    "# Load train and test datasets\n",
    "train_df = pd.read_csv(f\"{path}/KDDTrain+.txt\", header=None)\n",
    "test_df = pd.read_csv(f\"{path}/KDDTest+.txt\", header=None)\n",
    "\n",
    "# NSL-KDD has 41 features + 1 label column\n",
    "columns = [\n",
    "    'duration', 'protocol_type', 'service', 'flag', 'src_bytes', 'dst_bytes',\n",
    "    'land', 'wrong_fragment', 'urgent', 'hot', 'num_failed_logins', 'logged_in',\n",
    "    'num_compromised', 'root_shell', 'su_attempted', 'num_root', 'num_file_creations',\n",
    "    'num_shells', 'num_access_files', 'num_outbound_cmds', 'is_host_login',\n",
    "    'is_guest_login', 'count', 'srv_count', 'serror_rate', 'srv_serror_rate',\n",
    "    'rerror_rate', 'srv_rerror_rate', 'same_srv_rate', 'diff_srv_rate',\n",
    "    'srv_diff_host_rate', 'dst_host_count', 'dst_host_srv_count',\n",
    "    'dst_host_same_srv_rate', 'dst_host_diff_srv_rate',\n",
    "    'dst_host_same_src_port_rate', 'dst_host_srv_diff_host_rate',\n",
    "    'dst_host_serror_rate', 'dst_host_srv_serror_rate', 'dst_host_rerror_rate',\n",
    "    'dst_host_srv_rerror_rate', 'label', 'difficulty_level'  # added last column\n",
    "]\n",
    "\n",
    "train_df.columns = test_df.columns = columns\n",
    "\n",
    "\n",
    "\n"
   ]
  },
  {
   "cell_type": "markdown",
   "id": "3361c017",
   "metadata": {
    "papermill": {
     "duration": 0.002225,
     "end_time": "2025-05-20T14:06:47.579903",
     "exception": false,
     "start_time": "2025-05-20T14:06:47.577678",
     "status": "completed"
    },
    "tags": []
   },
   "source": [
    "**Preprocessing**"
   ]
  },
  {
   "cell_type": "code",
   "execution_count": 3,
   "id": "51676089",
   "metadata": {
    "execution": {
     "iopub.execute_input": "2025-05-20T14:06:47.585410Z",
     "iopub.status.busy": "2025-05-20T14:06:47.585169Z",
     "iopub.status.idle": "2025-05-20T14:06:47.876760Z",
     "shell.execute_reply": "2025-05-20T14:06:47.875928Z"
    },
    "papermill": {
     "duration": 0.296205,
     "end_time": "2025-05-20T14:06:47.878417",
     "exception": false,
     "start_time": "2025-05-20T14:06:47.582212",
     "status": "completed"
    },
    "tags": []
   },
   "outputs": [],
   "source": [
    "# Binary classification: normal vs attack\n",
    "train_df['label'] = train_df['label'].apply(lambda x: 'normal' if x == 'normal' else 'attack')\n",
    "test_df['label'] = test_df['label'].apply(lambda x: 'normal' if x == 'normal' else 'attack')\n",
    "\n",
    "# Encode categorical features\n",
    "cat_cols = ['protocol_type', 'service', 'flag']\n",
    "encoder = LabelEncoder()\n",
    "for col in cat_cols:\n",
    "    train_df[col] = encoder.fit_transform(train_df[col])\n",
    "    test_df[col] = encoder.transform(test_df[col])\n",
    "\n",
    "# Separate features and labels\n",
    "X_train = train_df.drop('label', axis=1)\n",
    "y_train = LabelEncoder().fit_transform(train_df['label'])\n",
    "\n",
    "X_test = test_df.drop('label', axis=1)\n",
    "y_test = LabelEncoder().fit_transform(test_df['label'])\n",
    "\n",
    "# Normalize\n",
    "scaler = StandardScaler()\n",
    "X_train = scaler.fit_transform(X_train)\n",
    "X_test = scaler.transform(X_test)\n"
   ]
  },
  {
   "cell_type": "markdown",
   "id": "6ecd5ffe",
   "metadata": {
    "papermill": {
     "duration": 0.002317,
     "end_time": "2025-05-20T14:06:47.883482",
     "exception": false,
     "start_time": "2025-05-20T14:06:47.881165",
     "status": "completed"
    },
    "tags": []
   },
   "source": [
    "**Build & Train Deep Learning Model**"
   ]
  },
  {
   "cell_type": "code",
   "execution_count": 4,
   "id": "d8b93c4b",
   "metadata": {
    "execution": {
     "iopub.execute_input": "2025-05-20T14:06:47.888943Z",
     "iopub.status.busy": "2025-05-20T14:06:47.888737Z",
     "iopub.status.idle": "2025-05-20T14:07:20.852943Z",
     "shell.execute_reply": "2025-05-20T14:07:20.852024Z"
    },
    "papermill": {
     "duration": 32.968368,
     "end_time": "2025-05-20T14:07:20.854164",
     "exception": false,
     "start_time": "2025-05-20T14:06:47.885796",
     "status": "completed"
    },
    "tags": []
   },
   "outputs": [
    {
     "name": "stdout",
     "output_type": "stream",
     "text": [
      "Epoch 1 - Loss: 0.0146\n",
      "Epoch 2 - Loss: 0.0003\n",
      "Epoch 3 - Loss: 0.0670\n",
      "Epoch 4 - Loss: 0.0011\n",
      "Epoch 5 - Loss: 0.0009\n",
      "Epoch 6 - Loss: 0.0000\n",
      "Epoch 7 - Loss: 0.0005\n",
      "Epoch 8 - Loss: 0.0005\n",
      "Epoch 9 - Loss: 0.0015\n",
      "Epoch 10 - Loss: 0.0000\n"
     ]
    }
   ],
   "source": [
    "import torch\n",
    "import torch.nn as nn\n",
    "from torch.utils.data import DataLoader, TensorDataset\n",
    "\n",
    "# Convert to tensors\n",
    "X_train_tensor = torch.tensor(X_train, dtype=torch.float32)\n",
    "y_train_tensor = torch.tensor(y_train, dtype=torch.long)\n",
    "X_test_tensor = torch.tensor(X_test, dtype=torch.float32)\n",
    "y_test_tensor = torch.tensor(y_test, dtype=torch.long)\n",
    "\n",
    "# DataLoader\n",
    "train_loader = DataLoader(TensorDataset(X_train_tensor, y_train_tensor), batch_size=128, shuffle=True)\n",
    "\n",
    "# Define model\n",
    "class IDSModel(nn.Module):\n",
    "    def __init__(self, input_dim):\n",
    "        super(IDSModel, self).__init__()\n",
    "        self.layers = nn.Sequential(\n",
    "            nn.Linear(input_dim, 64),\n",
    "            nn.ReLU(),\n",
    "            nn.Dropout(0.3),\n",
    "            nn.Linear(64, 32),\n",
    "            nn.ReLU(),\n",
    "            nn.Linear(32, 2)\n",
    "        )\n",
    "    def forward(self, x):\n",
    "        return self.layers(x)\n",
    "\n",
    "model = IDSModel(X_train.shape[1])\n",
    "criterion = nn.CrossEntropyLoss()\n",
    "optimizer = torch.optim.Adam(model.parameters(), lr=0.001)\n",
    "\n",
    "# Training\n",
    "for epoch in range(10):\n",
    "    for xb, yb in train_loader:\n",
    "        out = model(xb)\n",
    "        loss = criterion(out, yb)\n",
    "        optimizer.zero_grad()\n",
    "        loss.backward()\n",
    "        optimizer.step()\n",
    "    print(f\"Epoch {epoch+1} - Loss: {loss.item():.4f}\")\n"
   ]
  },
  {
   "cell_type": "markdown",
   "id": "33af4c0e",
   "metadata": {
    "papermill": {
     "duration": 0.002631,
     "end_time": "2025-05-20T14:07:20.859835",
     "exception": false,
     "start_time": "2025-05-20T14:07:20.857204",
     "status": "completed"
    },
    "tags": []
   },
   "source": [
    "**Evaluation**"
   ]
  },
  {
   "cell_type": "code",
   "execution_count": 5,
   "id": "bc999b4f",
   "metadata": {
    "execution": {
     "iopub.execute_input": "2025-05-20T14:07:20.866439Z",
     "iopub.status.busy": "2025-05-20T14:07:20.866048Z",
     "iopub.status.idle": "2025-05-20T14:07:20.885204Z",
     "shell.execute_reply": "2025-05-20T14:07:20.884418Z"
    },
    "papermill": {
     "duration": 0.023793,
     "end_time": "2025-05-20T14:07:20.886391",
     "exception": false,
     "start_time": "2025-05-20T14:07:20.862598",
     "status": "completed"
    },
    "tags": []
   },
   "outputs": [
    {
     "name": "stdout",
     "output_type": "stream",
     "text": [
      "Test Accuracy: 0.8676366209983826\n"
     ]
    }
   ],
   "source": [
    "model.eval()\n",
    "with torch.no_grad():\n",
    "    preds = torch.argmax(model(X_test_tensor), dim=1)\n",
    "    acc = (preds == y_test_tensor).float().mean()\n",
    "print(\"Test Accuracy:\", acc.item())\n"
   ]
  },
  {
   "cell_type": "markdown",
   "id": "a689663c",
   "metadata": {
    "papermill": {
     "duration": 0.003208,
     "end_time": "2025-05-20T14:07:20.893054",
     "exception": false,
     "start_time": "2025-05-20T14:07:20.889846",
     "status": "completed"
    },
    "tags": []
   },
   "source": [
    "**Real-Time Packet Detection with Scapy**"
   ]
  },
  {
   "cell_type": "code",
   "execution_count": 6,
   "id": "a27b20ea",
   "metadata": {
    "execution": {
     "iopub.execute_input": "2025-05-20T14:07:20.900627Z",
     "iopub.status.busy": "2025-05-20T14:07:20.900390Z",
     "iopub.status.idle": "2025-05-20T14:07:20.904813Z",
     "shell.execute_reply": "2025-05-20T14:07:20.904298Z"
    },
    "papermill": {
     "duration": 0.009153,
     "end_time": "2025-05-20T14:07:20.905837",
     "exception": false,
     "start_time": "2025-05-20T14:07:20.896684",
     "status": "completed"
    },
    "tags": []
   },
   "outputs": [],
   "source": [
    "# Save model\n",
    "torch.save(model.state_dict(), 'ids_model.pth')\n"
   ]
  },
  {
   "cell_type": "markdown",
   "id": "a49b6609",
   "metadata": {
    "papermill": {
     "duration": 0.002783,
     "end_time": "2025-05-20T14:07:20.911256",
     "exception": false,
     "start_time": "2025-05-20T14:07:20.908473",
     "status": "completed"
    },
    "tags": []
   },
   "source": [
    "**Logging to a Text File**"
   ]
  },
  {
   "cell_type": "code",
   "execution_count": 7,
   "id": "9db27c49",
   "metadata": {
    "execution": {
     "iopub.execute_input": "2025-05-20T14:07:20.917577Z",
     "iopub.status.busy": "2025-05-20T14:07:20.917340Z",
     "iopub.status.idle": "2025-05-20T14:07:20.920814Z",
     "shell.execute_reply": "2025-05-20T14:07:20.920315Z"
    },
    "papermill": {
     "duration": 0.007969,
     "end_time": "2025-05-20T14:07:20.921814",
     "exception": false,
     "start_time": "2025-05-20T14:07:20.913845",
     "status": "completed"
    },
    "tags": []
   },
   "outputs": [],
   "source": [
    "import datetime\n",
    "\n",
    "def log_packet(pkt, result):\n",
    "    with open(\"log.txt\", \"a\") as f:\n",
    "        f.write(f\"{datetime.datetime.now()} | {pkt.summary()} | Result: {result}\\n\")\n"
   ]
  },
  {
   "cell_type": "markdown",
   "id": "de5290dc",
   "metadata": {
    "papermill": {
     "duration": 0.002495,
     "end_time": "2025-05-20T14:07:20.926913",
     "exception": false,
     "start_time": "2025-05-20T14:07:20.924418",
     "status": "completed"
    },
    "tags": []
   },
   "source": [
    "**Secure Model with Adversarial Robustness Toolbox (ART)**"
   ]
  },
  {
   "cell_type": "code",
   "execution_count": 8,
   "id": "eee283b5",
   "metadata": {
    "execution": {
     "iopub.execute_input": "2025-05-20T14:07:20.932766Z",
     "iopub.status.busy": "2025-05-20T14:07:20.932520Z",
     "iopub.status.idle": "2025-05-20T14:07:30.743889Z",
     "shell.execute_reply": "2025-05-20T14:07:30.742924Z"
    },
    "papermill": {
     "duration": 9.815757,
     "end_time": "2025-05-20T14:07:30.745216",
     "exception": false,
     "start_time": "2025-05-20T14:07:20.929459",
     "status": "completed"
    },
    "tags": []
   },
   "outputs": [
    {
     "name": "stdout",
     "output_type": "stream",
     "text": [
      "Collecting adversarial-robustness-toolbox\r\n",
      "  Downloading adversarial_robustness_toolbox-1.19.1-py3-none-any.whl.metadata (11 kB)\r\n",
      "Requirement already satisfied: numpy>=1.18.0 in /usr/local/lib/python3.11/dist-packages (from adversarial-robustness-toolbox) (1.26.4)\r\n",
      "Requirement already satisfied: scipy>=1.4.1 in /usr/local/lib/python3.11/dist-packages (from adversarial-robustness-toolbox) (1.15.2)\r\n",
      "Requirement already satisfied: scikit-learn>=0.22.2 in /usr/local/lib/python3.11/dist-packages (from adversarial-robustness-toolbox) (1.2.2)\r\n",
      "Requirement already satisfied: six in /usr/local/lib/python3.11/dist-packages (from adversarial-robustness-toolbox) (1.17.0)\r\n",
      "Requirement already satisfied: setuptools in /usr/local/lib/python3.11/dist-packages (from adversarial-robustness-toolbox) (75.2.0)\r\n",
      "Requirement already satisfied: tqdm in /usr/local/lib/python3.11/dist-packages (from adversarial-robustness-toolbox) (4.67.1)\r\n",
      "Requirement already satisfied: mkl_fft in /usr/local/lib/python3.11/dist-packages (from numpy>=1.18.0->adversarial-robustness-toolbox) (1.3.8)\r\n",
      "Requirement already satisfied: mkl_random in /usr/local/lib/python3.11/dist-packages (from numpy>=1.18.0->adversarial-robustness-toolbox) (1.2.4)\r\n",
      "Requirement already satisfied: mkl_umath in /usr/local/lib/python3.11/dist-packages (from numpy>=1.18.0->adversarial-robustness-toolbox) (0.1.1)\r\n",
      "Requirement already satisfied: mkl in /usr/local/lib/python3.11/dist-packages (from numpy>=1.18.0->adversarial-robustness-toolbox) (2025.1.0)\r\n",
      "Requirement already satisfied: tbb4py in /usr/local/lib/python3.11/dist-packages (from numpy>=1.18.0->adversarial-robustness-toolbox) (2022.1.0)\r\n",
      "Requirement already satisfied: mkl-service in /usr/local/lib/python3.11/dist-packages (from numpy>=1.18.0->adversarial-robustness-toolbox) (2.4.1)\r\n",
      "Requirement already satisfied: joblib>=1.1.1 in /usr/local/lib/python3.11/dist-packages (from scikit-learn>=0.22.2->adversarial-robustness-toolbox) (1.5.0)\r\n",
      "Requirement already satisfied: threadpoolctl>=2.0.0 in /usr/local/lib/python3.11/dist-packages (from scikit-learn>=0.22.2->adversarial-robustness-toolbox) (3.6.0)\r\n",
      "Requirement already satisfied: intel-openmp<2026,>=2024 in /usr/local/lib/python3.11/dist-packages (from mkl->numpy>=1.18.0->adversarial-robustness-toolbox) (2024.2.0)\r\n",
      "Requirement already satisfied: tbb==2022.* in /usr/local/lib/python3.11/dist-packages (from mkl->numpy>=1.18.0->adversarial-robustness-toolbox) (2022.1.0)\r\n",
      "Requirement already satisfied: tcmlib==1.* in /usr/local/lib/python3.11/dist-packages (from tbb==2022.*->mkl->numpy>=1.18.0->adversarial-robustness-toolbox) (1.3.0)\r\n",
      "Requirement already satisfied: intel-cmplr-lib-rt in /usr/local/lib/python3.11/dist-packages (from mkl_umath->numpy>=1.18.0->adversarial-robustness-toolbox) (2024.2.0)\r\n",
      "Requirement already satisfied: intel-cmplr-lib-ur==2024.2.0 in /usr/local/lib/python3.11/dist-packages (from intel-openmp<2026,>=2024->mkl->numpy>=1.18.0->adversarial-robustness-toolbox) (2024.2.0)\r\n",
      "Downloading adversarial_robustness_toolbox-1.19.1-py3-none-any.whl (1.7 MB)\r\n",
      "\u001b[2K   \u001b[90m━━━━━━━━━━━━━━━━━━━━━━━━━━━━━━━━━━━━━━━━\u001b[0m \u001b[32m1.7/1.7 MB\u001b[0m \u001b[31m23.5 MB/s\u001b[0m eta \u001b[36m0:00:00\u001b[0m\r\n",
      "\u001b[?25hInstalling collected packages: adversarial-robustness-toolbox\r\n",
      "Successfully installed adversarial-robustness-toolbox-1.19.1\r\n",
      "Robust Accuracy under FGSM attack: 0.8197746628814763\n"
     ]
    }
   ],
   "source": [
    "!pip install adversarial-robustness-toolbox\n",
    "\n",
    "from art.estimators.classification import PyTorchClassifier\n",
    "from art.attacks.evasion import FastGradientMethod\n",
    "import numpy as np\n",
    "import torch\n",
    "\n",
    "# Convert X_test to float32 numpy array before generating adversarial examples\n",
    "X_test_float32 = X_test.astype(np.float32)\n",
    "\n",
    "classifier = PyTorchClassifier(\n",
    "    model=model,\n",
    "    loss=criterion,\n",
    "    optimizer=optimizer,\n",
    "    input_shape=(X_train.shape[1],),\n",
    "    nb_classes=2,\n",
    ")\n",
    "\n",
    "# Generate adversarial examples using float32 inputs\n",
    "fgsm = FastGradientMethod(estimator=classifier, eps=0.1)\n",
    "X_test_adv = fgsm.generate(X_test_float32)\n",
    "\n",
    "# Predict on adversarial examples\n",
    "preds = np.argmax(classifier.predict(X_test_adv), axis=1)\n",
    "\n",
    "accuracy = np.mean(preds == y_test)\n",
    "print(\"Robust Accuracy under FGSM attack:\", accuracy)\n"
   ]
  }
 ],
 "metadata": {
  "kaggle": {
   "accelerator": "nvidiaTeslaT4",
   "dataSources": [
    {
     "datasetId": 174616,
     "sourceId": 394223,
     "sourceType": "datasetVersion"
    }
   ],
   "dockerImageVersionId": 31041,
   "isGpuEnabled": true,
   "isInternetEnabled": true,
   "language": "python",
   "sourceType": "notebook"
  },
  "kernelspec": {
   "display_name": "Python 3",
   "language": "python",
   "name": "python3"
  },
  "language_info": {
   "codemirror_mode": {
    "name": "ipython",
    "version": 3
   },
   "file_extension": ".py",
   "mimetype": "text/x-python",
   "name": "python",
   "nbconvert_exporter": "python",
   "pygments_lexer": "ipython3",
   "version": "3.11.11"
  },
  "papermill": {
   "default_parameters": {},
   "duration": 54.340907,
   "end_time": "2025-05-20T14:07:33.550136",
   "environment_variables": {},
   "exception": null,
   "input_path": "__notebook__.ipynb",
   "output_path": "__notebook__.ipynb",
   "parameters": {},
   "start_time": "2025-05-20T14:06:39.209229",
   "version": "2.6.0"
  }
 },
 "nbformat": 4,
 "nbformat_minor": 5
}
